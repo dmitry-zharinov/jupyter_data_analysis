{
 "cells": [
  {
   "cell_type": "markdown",
   "metadata": {
    "raw_mimetype": "text/markdown"
   },
   "source": [
    "# Инструменты для оперативной работы с данными в Python\n",
    "\n",
    "\n"
   ]
  },
  {
   "cell_type": "code",
   "execution_count": 16,
   "metadata": {
    "collapsed": true
   },
   "outputs": [],
   "source": [
    "import pandas as pd\n",
    "import numpy as np\n",
    "import matplotlib.pyplot as plt\n",
    "\n",
    "PATH = 'names/'"
   ]
  },
  {
   "cell_type": "code",
   "execution_count": 17,
   "metadata": {
    "collapsed": false,
    "scrolled": false
   },
   "outputs": [],
   "source": [
    "names_1880 = pd.read_csv(PATH + 'yob1880.txt', names=['Name','Gender','Count']).head(10)"
   ]
  },
  {
   "cell_type": "code",
   "execution_count": 18,
   "metadata": {
    "collapsed": false
   },
   "outputs": [
    {
     "name": "stdout",
     "output_type": "stream",
     "text": [
      "        Name Gender  Count\n",
      "0       Mary      F   7065\n",
      "1       Anna      F   2604\n",
      "2       Emma      F   2003\n",
      "3  Elizabeth      F   1939\n",
      "4     Minnie      F   1746\n",
      "5   Margaret      F   1578\n",
      "6        Ida      F   1472\n",
      "7      Alice      F   1414\n",
      "8     Bertha      F   1320\n",
      "9      Sarah      F   1288\n"
     ]
    }
   ],
   "source": [
    "print(names_1880)"
   ]
  }
 ],
 "metadata": {
  "anaconda-cloud": {},
  "kernelspec": {
   "display_name": "Python 3",
   "language": "python",
   "name": "python3"
  },
  "language_info": {
   "codemirror_mode": {
    "name": "ipython",
    "version": 3
   },
   "file_extension": ".py",
   "mimetype": "text/x-python",
   "name": "python",
   "nbconvert_exporter": "python",
   "pygments_lexer": "ipython3",
   "version": "3.6.0"
  }
 },
 "nbformat": 4,
 "nbformat_minor": 1
}
